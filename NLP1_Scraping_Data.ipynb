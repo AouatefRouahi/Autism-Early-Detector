{
 "cells": [
  {
   "cell_type": "markdown",
   "id": "7dcf2ecd-9519-4d31-9f9a-900fa9af90ce",
   "metadata": {},
   "source": [
    "# Text-based Model: Data Collection\n",
    "-------\n",
    ">To get the **textual** data that contains the children's speech, we had recourse to the [TalkBank](https://talkbank.org/), that is a multilingual **corpus** established in 2002 to foster fundamental research in the study of human and animal communication. We scraped speech of children **with** and **without Autism Spectrum Disaster (ASD)**. \n",
    "\n",
    "> We have ensured that the children that do not present the ASD **do not present other linguistic disorders**. \n",
    "\n",
    "> The textual data on the TalkBank is organised by **topic** (CHILDS, ASDBank, PhonBank, AphasiaBank, ....). Under each topic, there are other classification by language (English, French, Chinese, ...). Once the right repository is found, all the speech data in the TalkBank is transcripted in the **CHAT** format as files with the extension **.cha**. In the header of each cha file, a description of the context is found. We parsed that description to find out if the child presents the ASD or any other disorder. \n",
    "\n",
    "> The scraping of the children's speech is made as follows:\n",
    ">> **Step 1)** **Scrape** the **URL**s of the diffrent **repostories** where cha files are saved using the criterium: **ASD or NO-ASD**.   \n",
    "**Step 2)** **Scrape** the **URL**s of the **cha files** that contain the children speech.      \n",
    "**Step 3)** **Scrape and Parse** the **cha files content** using a **yaml** file that specifies the elements to be scraped. After parsing the content of the cha file, only the relevant elements are saved into a **csv** file. The **name, age, sex** and the **target** value are scraped from the header of the cha file. The **target** value is induced as **0** for the children without ASD and **1** for those with the ASD. The **speech** is scraped from the corpus of the cha file.\n",
    "\n",
    "> The content scraping, parsing and  saving are executed simultaniously to decrease the number of variables (storage units) used in the process.\n",
    "\n",
    "-------\n",
    "\n",
    "<pre>\n",
    "📝 <b>Note</b>\n",
    "<div style=\"background-color:#C2F2ED;\">\n",
    "We cannot share the data for privacy reasons but you can refer to the following documentation to have more information about the cha files: [TalkBank Documentation](https://talkbank.org/manuals/CHAT.pdf).\n",
    "</div> </pre> \n"
   ]
  },
  {
   "cell_type": "code",
   "execution_count": null,
   "id": "a5b6e4e9",
   "metadata": {},
   "outputs": [],
   "source": [
    "import pandas as pd \n",
    "import csv\n",
    "\n",
    "# Predefined Modules\n",
    "from modules import Scrape_Functions as Scrape_F\n",
    "\n",
    "# global params\n",
    "yml_file = 'data/url.yml'\n",
    "autism_path = 'data/autism.csv'\n",
    "sample_age_path = 'data/autism_sample_age.csv'\n",
    "sample_path = 'data/autism_sample.csv'\n",
    "\n",
    "seed = 0"
   ]
  },
  {
   "cell_type": "markdown",
   "id": "79542e49-7b9c-40fd-aaf9-cafc86859a6a",
   "metadata": {},
   "source": [
    "# Children with ASD"
   ]
  },
  {
   "cell_type": "code",
   "execution_count": null,
   "id": "5c4f046f-5d1b-42ae-8de3-fdecab96a35d",
   "metadata": {},
   "outputs": [],
   "source": [
    "asd_urls_path = 'data/urls_asd.txt'\n",
    "asd_rep_urls_path = 'data/asd_rep_urls'\n",
    "asd_cha_files_path= 'data/asd_cha_files_urls'\n",
    "\n",
    "asd_csv_file_path = 'data/asd_speech.csv'"
   ]
  },
  {
   "cell_type": "markdown",
   "id": "8163f7a4",
   "metadata": {},
   "source": [
    "## Scrape Repositories URLs"
   ]
  },
  {
   "cell_type": "code",
   "execution_count": null,
   "id": "1aef55d8",
   "metadata": {},
   "outputs": [],
   "source": [
    "%%time\n",
    "asd_rep_urls = Scrape_F.scrape_repositories_urls(yml_file, asd_urls_path)\n",
    "Scrape_F.list_to_txt(asd_rep_urls_path, asd_rep_urls)\n",
    "print(f'we have scraped {len(asd_rep_urls)} repositories urls')"
   ]
  },
  {
   "cell_type": "markdown",
   "id": "aefabd11",
   "metadata": {},
   "source": [
    "## Scraping cha-files urls"
   ]
  },
  {
   "cell_type": "code",
   "execution_count": null,
   "id": "e287d95d",
   "metadata": {},
   "outputs": [],
   "source": [
    "%%time\n",
    "asd_cha_files_urls = Scrape_F.scrape_urls_files(yml_file, asd_rep_urls)\n",
    "Scrape_F.list_to_txt(asd_cha_files_path, asd_cha_files_urls)\n",
    "print(f'we have scraped {len(asd_cha_files_urls)} cha files urls')"
   ]
  },
  {
   "cell_type": "markdown",
   "id": "16ada966",
   "metadata": {},
   "source": [
    "## Scraping and Parsing cha files content"
   ]
  },
  {
   "cell_type": "code",
   "execution_count": null,
   "id": "81bc87a5",
   "metadata": {},
   "outputs": [],
   "source": [
    "%%time\n",
    "Scrape_F.scrape_and_parse_cha_files(asd_cha_files_urls, asd_csv_file_path, asd=1)"
   ]
  },
  {
   "cell_type": "markdown",
   "id": "a0ac5bb2",
   "metadata": {},
   "source": [
    "# Children with No ASD"
   ]
  },
  {
   "cell_type": "code",
   "execution_count": null,
   "id": "78e3bfc6-5fa4-4e9e-aad3-383eddd8272a",
   "metadata": {},
   "outputs": [],
   "source": [
    "no_asd_urls_path = 'data/no_asd_urls.txt'\n",
    "no_asd_rep_urls_path = 'data/no_asd_rep_urls'\n",
    "no_asd_cha_files_path= 'data/no_asd_cha_files_urls' \n",
    "\n",
    "no_asd_csv_file_path = 'data/no_asd_speech.csv'"
   ]
  },
  {
   "cell_type": "markdown",
   "id": "920f829c-84ef-41a0-bcae-0eeab0665d08",
   "metadata": {},
   "source": [
    "## Scrape Repositories URLs"
   ]
  },
  {
   "cell_type": "code",
   "execution_count": null,
   "id": "adf5040e-f65e-468e-95c6-04bbcd05385f",
   "metadata": {},
   "outputs": [],
   "source": [
    "%%time\n",
    "no_asd_rep_urls = Scrape_F.scrape_repositories_urls(yml_file, no_asd_urls_path)\n",
    "Scrape_F.list_to_txt(no_asd_rep_urls_path, no_asd_rep_urls)\n",
    "print(f'we have scraped {len(rep_urls)} repositories urls')"
   ]
  },
  {
   "cell_type": "markdown",
   "id": "a6b87c31-3717-4ca2-8cd4-6d17b66f395a",
   "metadata": {},
   "source": [
    "## Scraping cha-files urls"
   ]
  },
  {
   "cell_type": "code",
   "execution_count": null,
   "id": "2f0d3981-a824-48ed-a109-b967bfbbf011",
   "metadata": {},
   "outputs": [],
   "source": [
    "%%time\n",
    "no_asd_cha_files_urls = Scrape_F.scrape_urls_files(yml_file, no_asd_rep_urls)\n",
    "Scrape_F.list_to_txt(no_asd_cha_files_path, no_asd_cha_files_urls)\n",
    "print(f'we have scraped {len(no_asd_cha_files_urls)} cha files urls')"
   ]
  },
  {
   "cell_type": "markdown",
   "id": "1cd37b82-66c5-462a-83bc-c36757f489c0",
   "metadata": {},
   "source": [
    "## Scraping and Parsing cha files content"
   ]
  },
  {
   "cell_type": "code",
   "execution_count": null,
   "id": "7b39519e",
   "metadata": {},
   "outputs": [],
   "source": [
    "%%time\n",
    "Scrape_F.scrape_and_parse_cha_files(no_asd_cha_files_urls, no_asd_csv_file_path, asd=0)"
   ]
  },
  {
   "cell_type": "markdown",
   "id": "a64a6157",
   "metadata": {},
   "source": [
    "# Combine the datasets"
   ]
  },
  {
   "cell_type": "code",
   "execution_count": null,
   "id": "b492a626",
   "metadata": {},
   "outputs": [],
   "source": [
    "df_no_asd=pd.read_csv(no_asd_csv_file_path)\n",
    "df_asd= pd.read_csv(asd_csv_file_path)"
   ]
  },
  {
   "cell_type": "code",
   "execution_count": null,
   "id": "71fbe421",
   "metadata": {},
   "outputs": [],
   "source": [
    "print(df_no_asd.shape)\n",
    "print(df_asd.shape)\n",
    "print(df_no_asd.columns)\n",
    "print(df_asd.columns)"
   ]
  },
  {
   "cell_type": "code",
   "execution_count": null,
   "id": "e5c5e97c",
   "metadata": {},
   "outputs": [],
   "source": [
    "df_no_asd.head()"
   ]
  },
  {
   "cell_type": "code",
   "execution_count": null,
   "id": "a02c2232",
   "metadata": {},
   "outputs": [],
   "source": [
    "df_asd.head()"
   ]
  },
  {
   "cell_type": "code",
   "execution_count": null,
   "id": "ce3c466f",
   "metadata": {},
   "outputs": [],
   "source": [
    "result = pd.concat([df_asd,df_no_asd])\n",
    "result"
   ]
  },
  {
   "cell_type": "code",
   "execution_count": null,
   "id": "6b70f5b7",
   "metadata": {},
   "outputs": [],
   "source": [
    "# save the combined datasets\n",
    "result.to_csv(autism_path, index=False, quoting=csv.QUOTE_NONNUMERIC)"
   ]
  },
  {
   "cell_type": "markdown",
   "id": "d9ad0f19-ee5d-435b-b556-b27ed1275680",
   "metadata": {},
   "source": [
    "# Filter the data"
   ]
  },
  {
   "cell_type": "code",
   "execution_count": null,
   "id": "08296ee4-1374-4ae3-b3ad-1337ef39bff0",
   "metadata": {},
   "outputs": [],
   "source": [
    "asd_filter = result['ASD'] == 1\n",
    "print(f'ASD obsrevations:{result[asd_filter].shape[0]} obsrevations ({round(result[asd_filter].shape[0]/result.shape[0]*100,2)}%)')\n",
    "print(f'No ASD obsrevations:{result[~asd_filter].shape[0]} obsrevations ({round(result[~asd_filter].shape[0]/result.shape[0]*100,2)}%)')"
   ]
  },
  {
   "cell_type": "markdown",
   "id": "3ddc76de-0587-446d-bd4e-1414d98bc961",
   "metadata": {},
   "source": [
    "> We have scraped **832_675** speeches (records) where only **5%** of the records are speeches of children with ASD. A **Resampling** technique may be used to decrease the huge gap in number between both categories.\n",
    "\n",
    "> In addition, children that are represented in this dataset are aged between **1** and **12** years old. Before **3** years old, children are always developing their linguistic skills and expanding their vocabulary so it is too hard to distinguish children with ASD using only speech. However, we should mention that psychologists confirm that ASD can be discovered before **3** using other symptoms, other than linguistic abilities, such as stereotyped and repetitive motor movements (e.g., hand flapping or lining up items). In addition, some linguistic habits such as babbling are very frequent among children before **3** years and they are considered as positive signs of normal development. However, this same linguistic habit is considered as a negative sign when it is present among older children. For those reasons, we want to filter the dataset so that children before **3** are not considered in the current version of the project.\n",
    "\n",
    "> After **6** years old, typically, children developed their linguistic skills so that it is too easy to distinguish children with ASD using their linguistic abilities. Hence, we will set the limit age in the current version of the project to **6** years old."
   ]
  },
  {
   "cell_type": "markdown",
   "id": "3da33731-83d2-4b4f-945a-bc1d8a1fb47e",
   "metadata": {},
   "source": [
    "## Filter per age"
   ]
  },
  {
   "cell_type": "code",
   "execution_count": null,
   "id": "66c27f0d-dbcd-4fd9-9eeb-40b719415845",
   "metadata": {},
   "outputs": [],
   "source": [
    "# 1. Extract the absolute age (6;11.19 ---> 6)\n",
    "result['abs_age'] = result['age'].apply(Scrape_F.abs_age)\n",
    "\n",
    "# 2. Exclude children aged less than 3 years and more than 6 years  \n",
    "age_filter = (result['abs_age']>2) & (result['abs_age']<7)\n",
    "sample_age = result[age_filter]\n",
    "\n",
    "# 3. save the sample in a csv file\n",
    "sample_age.to_csv(sample_age_path, index=False, quoting=csv.QUOTE_NONNUMERIC)"
   ]
  },
  {
   "cell_type": "markdown",
   "id": "ab5d4be6-ef80-4b3c-9aaf-0b18c975780d",
   "metadata": {},
   "source": [
    "## Resampling"
   ]
  },
  {
   "cell_type": "markdown",
   "id": "a1bd8f38-dd1c-41fd-a0e9-96b8424d8ee1",
   "metadata": {},
   "source": [
    "> To decrease the gap between the number of children with ASD and the number of those without the disorder, we had recourse to the resampling technique. Two approaches as possible: Over-Sampling the minority class or Under-Sampling the majority class. As we have a huge number of children without ASD, we opted for the Under-Sampling approach. Note that, in real world presentation, such datasets are typically imbalanced. Hence, we will not try to balance the dataset, but, we wanted to decrease the gap between both classes while keeping the imbalanced nature of the dataset to get sufficient amount of data to train the classification model afterwords. "
   ]
  },
  {
   "cell_type": "code",
   "execution_count": null,
   "id": "e8e3629b-b7e6-45eb-8cc7-4ee8bdbc5e6f",
   "metadata": {},
   "outputs": [],
   "source": [
    "# Resampling\n",
    "'''\n",
    "Assume that the real population has 30% of children with ASD. \n",
    "We should compute the number of records to keep from the majority class (children without ASD).\n",
    "Let p1 be the percentage of children with autism and p2 is the percentage of children without ASD.\n",
    "# NO_ASD records = (p2/p1)* # ASD records\n",
    "''' \n",
    "p1 = 0.3\n",
    "p2 = 0.7\n",
    "ASD = sample_age[asd_filter].shape[0]\n",
    "print('ASD:', ASD)\n",
    "NO_ASD = int(round(p2/p1 * ASD,0))\n",
    "print('NO_ASD:', NO_ASD)\n",
    "print('ALL:', NO_ASD + ASD)\n",
    "\n",
    "sample = pd.concat([sample_age[~asd_filter].sample(n = NO_ASD, random_state = seed), sample_age[asd_filter]], axis=0)\n",
    "\n",
    "# check\n",
    "print(f'ASD obsrevations:{sample[asd_filter].shape[0]} obsrevations ({round(sample[asd_filter].shape[0]/sample.shape[0]*100,2)}%)')\n",
    "print(f'No ASD obsrevations:{sample[~asd_filter].shape[0]} obsrevations ({round(sample[~asd_filter].shape[0]/sample.shape[0]*100,2)}%)')"
   ]
  },
  {
   "cell_type": "code",
   "execution_count": null,
   "id": "76c0c78b-9ff3-4acf-ab05-9a0b88894b20",
   "metadata": {},
   "outputs": [],
   "source": [
    "# save the sample\n",
    "sample.to_csv(sample_path, index=False, quoting=csv.QUOTE_NONNUMERIC)"
   ]
  },
  {
   "cell_type": "markdown",
   "id": "6e95234e-4cb9-4187-bb5c-714765c89438",
   "metadata": {},
   "source": [
    ">🗒 Here is the scraped data structure. We had to hide the names for privacy reasons.\n",
    "\n",
    "![image](img/autism_ds.png)"
   ]
  }
 ],
 "metadata": {
  "kernelspec": {
   "display_name": "Python 3 (ipykernel)",
   "language": "python",
   "name": "python3"
  },
  "language_info": {
   "codemirror_mode": {
    "name": "ipython",
    "version": 3
   },
   "file_extension": ".py",
   "mimetype": "text/x-python",
   "name": "python",
   "nbconvert_exporter": "python",
   "pygments_lexer": "ipython3",
   "version": "3.9.7"
  }
 },
 "nbformat": 4,
 "nbformat_minor": 5
}
