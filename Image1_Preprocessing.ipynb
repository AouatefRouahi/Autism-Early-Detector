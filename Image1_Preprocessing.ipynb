{
 "cells": [
  {
   "cell_type": "markdown",
   "id": "383a2e03-737f-4329-830c-c674a8f79938",
   "metadata": {
    "tags": []
   },
   "source": [
    "# Image-based Model: Image Processing\n",
    "-------\n",
    "To standardize the images format we had to make some preprocessing:\n",
    "\n",
    "> **Replace png images to jpg format**: It is already recognized that JPG performs better for photorealistic images while PNG goes better with drawings with sharp lines and solid colors. As we are dealing with realistic photos of children, we prefer to change the format.  \n",
    "\n",
    "> **Filter the images based on manual visual annotations**: there are images that present some anomalies like:\n",
    ">> * Tilted images\n",
    ">> * Face is not centered \n",
    ">> * Not only face appears in the image\n",
    ">> * Images with sideways pose\n",
    ">> * Photoshop images\n",
    ">> * Black/white images\n",
    ">> * As we decided to only consider children between 3 and 6 years old, we want as well delete images for younger or older children.\n",
    "\n",
    "> To do so, we have annotated manually the images to distinguish between images to keep and those to be not considered.\n",
    "\n",
    "> **Filter the images based on dimensions**: to standardize the dimensions of the images for the training, we have to filter the images.\n",
    "\n",
    "-----------"
   ]
  },
  {
   "cell_type": "markdown",
   "id": "2b32de96",
   "metadata": {},
   "source": [
    "## Libraries"
   ]
  },
  {
   "cell_type": "code",
   "execution_count": 1,
   "id": "a6f2ad9c",
   "metadata": {},
   "outputs": [],
   "source": [
    "import pandas as pd\n",
    "# ************************************\n",
    "from modules import Image_Functions as Image_F"
   ]
  },
  {
   "cell_type": "markdown",
   "id": "a5cfe99c",
   "metadata": {},
   "source": [
    "## Global variables"
   ]
  },
  {
   "cell_type": "code",
   "execution_count": null,
   "id": "d27624ac",
   "metadata": {},
   "outputs": [],
   "source": [
    "# directory pathes\n",
    "AUTISTIC_DIRECTORY = \"../../../../datasets/dataset_2/Autistic/\"\n",
    "NON_AUTISTIC_DIRECTORY = \"../../../../datasets/dataset_2/Non_Autistic/\"\n",
    "\n",
    "NEW_DATASET_DIRECTORY = \"../../../../datasets/dataset_2_processed\"\n",
    "NEW_AUTISTIC_DIRECTORY = \"../../../../datasets/dataset_2_processed/Autistic/\"\n",
    "NEW_NON_AUTISTIC_DIRECTORY = \"../../../../datasets/dataset_2_processed/Non_Autistic/\"\n",
    "\n",
    "# csv pathes\n",
    "AUTISTIC_CSV_PATH = \"../image_manual_enrichment/dataset_note_autistic.csv\"\n",
    "NON_AUTISTIC_CSV_PATH = \"../image_manual_enrichment/dataset_note_non_autistic.csv\"\n",
    "\n",
    "# dataframes\n",
    "df_autistic = pd.read_csv(AUTISTIC_CSV_PATH, delimiter = ';')\n",
    "df_non_autistic = pd.read_csv(NON_AUTISTIC_CSV_PATH, delimiter = ';')"
   ]
  },
  {
   "cell_type": "markdown",
   "id": "696b122a",
   "metadata": {},
   "source": [
    "## Preprocessing"
   ]
  },
  {
   "cell_type": "code",
   "execution_count": null,
   "id": "30dadb0d-8c51-4abb-a5a8-a661ef4bc9fb",
   "metadata": {},
   "outputs": [],
   "source": [
    "output = Image_F.image_pre_processing(\n",
    "    AUTISTIC_DIRECTORY,\n",
    "    NON_AUTISTIC_DIRECTORY,\n",
    "    NEW_DATASET_DIRECTORY,\n",
    "    NEW_AUTISTIC_DIRECTORY,\n",
    "    NEW_NON_AUTISTIC_DIRECTORY,\n",
    "    df_autistic,\n",
    "    df_non_autistic,\n",
    "    keep_older = False,\n",
    "    keep_tilted = False,\n",
    "    keep_side = False,\n",
    "    keep_not_centered = False,\n",
    "    keep_potoshopped = False,\n",
    "    keep_bw = False,\n",
    "    min_width = 0,\n",
    "    max_width = 5000,\n",
    "    min_heigth = 0,\n",
    "    max_heigth = 5000,\n",
    "    min_ratio = 0,\n",
    "    max_ratio = 1.15)\n",
    "\n",
    "print(output)"
   ]
  }
 ],
 "metadata": {
  "kernelspec": {
   "display_name": "Python 3 (ipykernel)",
   "language": "python",
   "name": "python3"
  },
  "language_info": {
   "codemirror_mode": {
    "name": "ipython",
    "version": 3
   },
   "file_extension": ".py",
   "mimetype": "text/x-python",
   "name": "python",
   "nbconvert_exporter": "python",
   "pygments_lexer": "ipython3",
   "version": "3.9.7"
  }
 },
 "nbformat": 4,
 "nbformat_minor": 5
}
