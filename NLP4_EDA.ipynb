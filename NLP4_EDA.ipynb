{
 "cells": [
  {
   "cell_type": "markdown",
   "id": "408992e0-7cfe-4714-be2b-0cb0db100447",
   "metadata": {
    "tags": []
   },
   "source": [
    "# Text-based Model: Exploratory Data Analysis"
   ]
  },
  {
   "cell_type": "markdown",
   "id": "8e7dd686-10d9-4502-9081-564c6fac88e3",
   "metadata": {},
   "source": [
    "-------   \n",
    "\n",
    "In this last part before training, we want to understand more profoundly the data to have a preliminary vision about how we can tackle the training phase.\n",
    "\n",
    "-----------"
   ]
  },
  {
   "cell_type": "code",
   "execution_count": 10,
   "id": "7f840d0c-b468-4242-bec4-991a326dcefc",
   "metadata": {},
   "outputs": [],
   "source": [
    "#Generic libs\n",
    "import pandas as pd\n",
    "import numpy as np\n",
    "\n",
    "import matplotlib.pyplot as plt\n",
    "\n",
    "#global params\n",
    "dataset_path = 'data/autism_with_metadata.csv'"
   ]
  },
  {
   "cell_type": "markdown",
   "id": "63b17046-faba-4a1c-8c40-e1b206d994a0",
   "metadata": {
    "tags": []
   },
   "source": [
    "## Load Data"
   ]
  },
  {
   "cell_type": "code",
   "execution_count": null,
   "id": "e1d9d0a2-db3c-4666-b1c5-4f70d4782c63",
   "metadata": {},
   "outputs": [],
   "source": [
    "data = pd.read_csv(dataset_path)\n",
    "data.head()"
   ]
  },
  {
   "cell_type": "markdown",
   "id": "e18063f7-be27-432f-a77f-ddef0c93de30",
   "metadata": {},
   "source": [
    "## Analysis"
   ]
  },
  {
   "cell_type": "code",
   "execution_count": null,
   "id": "5c6b8a9f-6a71-4472-85cf-0754e1a42c4a",
   "metadata": {},
   "outputs": [],
   "source": [
    "asd_filter = data['ASD']==1"
   ]
  },
  {
   "cell_type": "markdown",
   "id": "86ed8b7a-e496-46e7-beff-c0600cb16de6",
   "metadata": {},
   "source": [
    "### Gender Analysis"
   ]
  },
  {
   "cell_type": "code",
   "execution_count": null,
   "id": "5663b9e2-229f-4766-b292-cb2ffd6ceaca",
   "metadata": {},
   "outputs": [],
   "source": [
    "df_sex= data[asd_filter].groupby(by=['sex']).count().reset_index()\n",
    "plt.bar(x =['Female', 'Male'], height=df_sex['name'])\n",
    "plt.xlabel(\"Gender\")\n",
    "plt.ylabel(\"Number of Children\")\n",
    "plt.title(\"Number of autistic boys vs autistic girls\")\n",
    "plt.show()"
   ]
  },
  {
   "cell_type": "markdown",
   "id": "94415f5e-2108-4865-8805-2a011053e305",
   "metadata": {},
   "source": [
    "![image](img/gender.png)"
   ]
  },
  {
   "cell_type": "markdown",
   "id": "4585f324-715d-4b5c-b1fe-1de69a8be642",
   "metadata": {},
   "source": [
    "<pre>\n",
    "📝 <b>Note</b>\n",
    "<div style=\"background-color:#C2F2ED;\">\n",
    "Autism is significantly more common among boys than among girls. This skewed sex ratio is well recognized in autism statistics supplied by the <a href='https://www.cdc.gov/'>Centers for Disease Control and Prevention</a>.\n",
    "</div> </pre> "
   ]
  },
  {
   "cell_type": "markdown",
   "id": "a9f58ba5-ace8-41ad-b1cb-9791f7ffd67a",
   "metadata": {},
   "source": [
    "### Linguistic Abilities Analysis"
   ]
  },
  {
   "cell_type": "code",
   "execution_count": null,
   "id": "8e673235-2583-4532-a3a7-cce39b826e20",
   "metadata": {},
   "outputs": [],
   "source": [
    "df_eda= data.groupby(by=['ASD']).mean().reset_index()"
   ]
  },
  {
   "cell_type": "code",
   "execution_count": null,
   "id": "a8c11f61-1632-49b0-a4cb-2ef70248d8d4",
   "metadata": {},
   "outputs": [],
   "source": [
    "X = ['Speech','Meaningful Speech','Structured Speech', 'Different Words', 'Density']\n",
    "cols = ['len_clean_annotated_speech', 'len_meaningful_speech', 'len_structured_speech', 'n_diff_words', 'density']\n",
    "ASD_count = df_eda[cols].iloc[1]\n",
    "No_ASD_count = df_eda[cols].iloc[0]\n",
    "\n",
    "X_axis = np.arange(len(X))\n",
    "\n",
    "plt.figure(figsize=(10,5))\n",
    "plt.bar(X_axis - 0.2, ASD_count, 0.4, label = 'ASD', color = 'r')\n",
    "plt.bar(X_axis + 0.2, No_ASD_count, 0.4, label = 'NO ASD', color = 'g')\n",
    "\n",
    "plt.xticks(X_axis, X)\n",
    "plt.ylabel(\"Mean\")\n",
    "plt.title(\"Linguistic Abilities Analysis\")\n",
    "plt.legend()\n",
    "plt.show()"
   ]
  },
  {
   "cell_type": "markdown",
   "id": "188dea38-99c6-4777-95b7-57e9f07b6b49",
   "metadata": {},
   "source": [
    "![image](img/linguistic.png)"
   ]
  },
  {
   "cell_type": "markdown",
   "id": "bb7fd878-bccc-434b-abc5-ed66c431d06a",
   "metadata": {},
   "source": [
    "<pre>\n",
    "📝 <b>Note</b>\n",
    "<div style=\"background-color:#C2F2ED;\">\n",
    "Clearly, children with ASD tend to use <b>shorter, less meaningful, less structured</b> sentences. They use less number of different words because of their <b>limited vocabulary</b>. Finally, their speech is <b>less dense</b> than the speech supplied by children that do not present the autism disorder because they tend to use shorter words.\n",
    "</div> </pre> "
   ]
  },
  {
   "cell_type": "markdown",
   "id": "4a711f68-7c39-4691-8756-acbf573d0cbf",
   "metadata": {},
   "source": [
    "### Autism Signs Analysis"
   ]
  },
  {
   "cell_type": "code",
   "execution_count": null,
   "id": "fb16323d-6d01-4ab6-bae2-a4ef8c37e7a2",
   "metadata": {},
   "outputs": [],
   "source": [
    "X = ['Babbling','Repetition','Best Guess', 'Unintelligible', 'Incompletion', 'Onomatopoeia', 'Hesitation', 'Misspelling', 'Disfluency']\n",
    "cols = ['n_bab', 'n_rep', 'n_gue', 'n_uni', 'n_inq', 'n_ono', 'n_hes', 'n_mis', 'n_disf']\n",
    "ASD_count = df_eda[cols].iloc[1]\n",
    "No_ASD_count = df_eda[cols].iloc[0]\n",
    "\n",
    "X_axis = np.arange(len(X))\n",
    "\n",
    "plt.figure(figsize=(15,5))\n",
    "plt.bar(X_axis - 0.2, ASD_count, 0.4, label = 'ASD', color = 'r')\n",
    "plt.bar(X_axis + 0.2, No_ASD_count, 0.4, label = 'NO ASD', color = 'g')\n",
    "\n",
    "plt.xticks(X_axis, X)\n",
    "plt.ylabel(\"Mean\")\n",
    "plt.title(\"Autism Signs Analysis\")\n",
    "plt.legend()\n",
    "plt.show()"
   ]
  },
  {
   "cell_type": "markdown",
   "id": "ec08a10b-d7f8-4384-9fee-b18b1d1d30fb",
   "metadata": {},
   "source": [
    "![image](img/symptoms.png)"
   ]
  },
  {
   "cell_type": "markdown",
   "id": "f1003ff8-6349-44d0-b00b-675776591470",
   "metadata": {},
   "source": [
    "<pre>\n",
    "📝 <b>Note</b>\n",
    "<div style=\"background-color:#C2F2ED;\">\n",
    "<li> Obviously, <b>Babbling</b>, <b>Guessed</b> and <b>Unintelligible</b> words, <b>Incompletion</b>, <b>Onomatopeia</b> and <b>Hesitation</b> are confirmed signs for autism. \n",
    "\n",
    "<li> Surprisingly, <b>Disfluency</b> and <b>Misspelling</b> are more frequent among children that do not present autism. This can be explained by the fact that those children have more developed linguistic skills and wide-ranging vocabulary. Hence, they use more words and consquently make more errors.\n",
    "\n",
    "<li> On the other hand, the <b>Repetition</b> sign which is the most recongnized symptom to distinguish children with ASD, known as <b>Echololia</b>, is not really informative in our dataset. This can be a result of pure random chance. Anyway, we should dig deeper into this last fact.\n",
    "</div> </pre> "
   ]
  },
  {
   "cell_type": "markdown",
   "id": "7f5c504b-86ff-4f8b-8266-508828a20d22",
   "metadata": {},
   "source": [
    "## Conclusion   \n",
    "This first analysis confirms that the textual data clearly contains a **predictive value** that is too useful to distinguish children with autism disorder."
   ]
  }
 ],
 "metadata": {
  "kernelspec": {
   "display_name": "Python 3 (ipykernel)",
   "language": "python",
   "name": "python3"
  },
  "language_info": {
   "codemirror_mode": {
    "name": "ipython",
    "version": 3
   },
   "file_extension": ".py",
   "mimetype": "text/x-python",
   "name": "python",
   "nbconvert_exporter": "python",
   "pygments_lexer": "ipython3",
   "version": "3.9.7"
  },
  "toc-autonumbering": false
 },
 "nbformat": 4,
 "nbformat_minor": 5
}
