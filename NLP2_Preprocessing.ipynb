{
 "cells": [
  {
   "cell_type": "markdown",
   "id": "8f39dfa4-3e57-4587-80b2-753ad65712f7",
   "metadata": {
    "tags": []
   },
   "source": [
    "# Text-based Model: Data Processing\n",
    "-------\n",
    "\n",
    "The scraped textual data is transcripted in the **CHAT** format that contains special notations to annotate the speech. These annotations contain additional information that cannot be inferred from the textual speech like:\n",
    "\n",
    "> * **Babbling**: @b, @u, @wp, [babble], &=babble\n",
    "> * **Repetition**: [=repeat ...], [x n] where n is a number, [/] \n",
    "> * **Best Guess** (not too clear words):  [?], [=? text]\n",
    "> * **Unintelligible** (incomprehensible): [=jargon], xxx, xxxx, yyy\n",
    "> * **Incompletion**: +..., +..?\n",
    "> * **Onomatopoeia** (animal sounds and attempts to imitate natural sounds):@o\n",
    "> * **Hesitation**: [//], [///], &+, [/?]\n",
    "> * **Misspeling**: [: text]\n",
    "> * **Disfluency**: (.), (..), (...), [/-], &Text:Text, &-Text, &Text\n",
    "> * **Events**: &=text  \n",
    "\n",
    "Generally events are visual notes of the transcripter on some actions that the child is doing like sneezing, jumping, imiting animals and so on. In the current version of the project, we are only intereseted in text( what did the child say not what did he do or how did he act). However, we cannot deny that such information can be helpful to distinguish children with ASD.\n",
    "\n",
    "* **Step 1: Annotate Speech--** The first processing task is to classify all these annotations by topic as done above and replace each collection by one annotation. For example, whenever one of the annotations used to mention **babbling** is found in the speech, it is replaced by the key word **BAB**. The other collections are processed in the same way. In addition, we have ensured to use key words that do not pertain to the vocabulary used in the corpus to avoid biasing the models training afterwards.\n",
    "\n",
    "* **Step 2: Common Processing--** After annotating the speech, we applied the common processing tasks such as removing foreign language speech, Mojibake, numbers, punctuation and extras spaces, tabs and line breaks.  \n",
    "\n",
    "* **Step 3: Lemmatization--** In this third step, we applied a lemmatization task that extracts the root of each word. \n",
    "\n",
    "* **Step 4: Extract Meaningful Speech--** In this step, we used the english dictionnary provided with the **PyEnchant** library to extract only meaningful english words (e.g., bibobi is not a meaningful word).\n",
    "\n",
    "* **Step 5: Structure Meaningful Speech--**  After extracting the meaningful words, we wanted to keep only some forms of words like subjects, nouns, verbs, adjectives and adverbs.\n",
    "\n",
    "* **Step 6: Stem Lemmatized Speech--** In this step, we stemmed the already lemmatized speech to get more basic words.\n",
    " \n",
    "* **Step 7: Stem Structured Speech--** In another attempt, we stemmed as well the structured speech that contains some forms of meaningful words. This last processing gives the smallest vocabulary size. \n",
    "\n",
    "> Note that the output of every processing task is saved as a new column in the csv file. At the end of the processing, we get 6 new columns all constructed from the raw speech passed as a parameter to the processing function. The new columns are:\n",
    "\n",
    "* **clean_annotated_speech**: output of step 1&2.\n",
    "* **lemmatized_speech**: output of step 3.\n",
    "* **meaningful_speech**: output of step 4.\n",
    "* **structured_speech**: output of step 5.\n",
    "* **stemmed_lemmatized_speech**: output of step 6.\n",
    "* **stemmed_meaningful_speech**: output of step 7.\n",
    "\n",
    "> We apply these processing tasks, we defined a main function, **preprocess** that takes as parameters the dataset, the colomn on which the processing will be performed and the csv file path where the outputs will be saved. This main function uses other elementary functions to perform different tasks: Search, Tokenizing, Cleaning, Lemmatizing, Stemming, Structuring and so on. \n",
    "\n",
    "-----------\n"
   ]
  },
  {
   "cell_type": "code",
   "execution_count": 1,
   "id": "6b2ac3be",
   "metadata": {
    "id": "3e0537e6-ed98-4217-b2c4-b86911f8b693"
   },
   "outputs": [
    {
     "name": "stderr",
     "output_type": "stream",
     "text": [
      "[nltk_data] Downloading package punkt to\n",
      "[nltk_data]     C:\\Users\\softeam2\\AppData\\Roaming\\nltk_data...\n",
      "[nltk_data]   Package punkt is already up-to-date!\n"
     ]
    }
   ],
   "source": [
    "#Generic libs\n",
    "import pandas as pd\n",
    "\n",
    "# predefined modules\n",
    "from modules import NLP_Functions as NLP_F\n",
    "\n",
    "#global params\n",
    "autism_path = 'data/autism_sample.csv'\n",
    "preprocessed_dataset_path = 'data/preprocessed_autism.csv'"
   ]
  },
  {
   "cell_type": "markdown",
   "id": "a5a266ba",
   "metadata": {
    "id": "0b545d10-bb7d-4b9f-b93f-a2e4c64911e9"
   },
   "source": [
    "## Load data"
   ]
  },
  {
   "cell_type": "code",
   "execution_count": null,
   "id": "3a640ffb",
   "metadata": {
    "id": "89691edf-1e7a-4537-a3ba-7d66437a5be5"
   },
   "outputs": [],
   "source": [
    "autism_dataset = pd.read_csv(autism_path)\n",
    "autism_dataset.head()"
   ]
  },
  {
   "cell_type": "markdown",
   "id": "63f1c800",
   "metadata": {
    "id": "dd134789-1dcf-4283-b039-6a86c7d44e79"
   },
   "source": [
    "## Preprocessing"
   ]
  },
  {
   "cell_type": "code",
   "execution_count": null,
   "id": "4fe789e3",
   "metadata": {
    "colab": {
     "base_uri": "https://localhost:8080/"
    },
    "id": "2f7e7e76-e787-41d3-a190-aad5114ae39e",
    "outputId": "de7add3e-7a55-4227-b019-706cf695233a"
   },
   "outputs": [],
   "source": [
    "column ='speech'\n",
    "NLP_F.preprocess(autism_path, column, preprocessed_dataset_path) "
   ]
  },
  {
   "cell_type": "markdown",
   "id": "f5a4c477",
   "metadata": {
    "id": "dd134789-1dcf-4283-b039-6a86c7d44e79"
   },
   "source": [
    "# Preprocess test"
   ]
  },
  {
   "cell_type": "code",
   "execution_count": 3,
   "id": "92837796",
   "metadata": {},
   "outputs": [
    {
     "data": {
      "text/html": [
       "<div>\n",
       "<style scoped>\n",
       "    .dataframe tbody tr th:only-of-type {\n",
       "        vertical-align: middle;\n",
       "    }\n",
       "\n",
       "    .dataframe tbody tr th {\n",
       "        vertical-align: top;\n",
       "    }\n",
       "\n",
       "    .dataframe thead th {\n",
       "        text-align: right;\n",
       "    }\n",
       "</style>\n",
       "<table border=\"1\" class=\"dataframe\">\n",
       "  <thead>\n",
       "    <tr style=\"text-align: right;\">\n",
       "      <th></th>\n",
       "      <th>speech</th>\n",
       "    </tr>\n",
       "  </thead>\n",
       "  <tbody>\n",
       "    <tr>\n",
       "      <th>0</th>\n",
       "      <td>\\thaeboÉ¤boÉ¤@u m haeboÉ¤boÉ¤@u o and p !</td>\n",
       "    </tr>\n",
       "    <tr>\n",
       "      <th>1</th>\n",
       "      <td>\\t&amp;=nods:yes .</td>\n",
       "    </tr>\n",
       "    <tr>\n",
       "      <th>2</th>\n",
       "      <td>\\tnuhn [: nothing] .</td>\n",
       "    </tr>\n",
       "    <tr>\n",
       "      <th>3</th>\n",
       "      <td>\\tridin(g) under de [: the] batrack@u [= track] .</td>\n",
       "    </tr>\n",
       "    <tr>\n",
       "      <th>4</th>\n",
       "      <td>\\t&amp;-uh baba@u</td>\n",
       "    </tr>\n",
       "    <tr>\n",
       "      <th>5</th>\n",
       "      <td>I be going to go out to the kitchen dis alrigh...</td>\n",
       "    </tr>\n",
       "    <tr>\n",
       "      <th>6</th>\n",
       "      <td>\\tin the , Monsters Inc tower , like show you ...</td>\n",
       "    </tr>\n",
       "    <tr>\n",
       "      <th>7</th>\n",
       "      <td>uni</td>\n",
       "    </tr>\n",
       "    <tr>\n",
       "      <th>8</th>\n",
       "      <td>Hello [Repeat 3 times] yes [x 5]</td>\n",
       "    </tr>\n",
       "  </tbody>\n",
       "</table>\n",
       "</div>"
      ],
      "text/plain": [
       "                                              speech\n",
       "0          \\thaeboÉ¤boÉ¤@u m haeboÉ¤boÉ¤@u o and p !\n",
       "1                                     \\t&=nods:yes .\n",
       "2                               \\tnuhn [: nothing] .\n",
       "3  \\tridin(g) under de [: the] batrack@u [= track] .\n",
       "4                                      \\t&-uh baba@u\n",
       "5  I be going to go out to the kitchen dis alrigh...\n",
       "6  \\tin the , Monsters Inc tower , like show you ...\n",
       "7                                                uni\n",
       "8                   Hello [Repeat 3 times] yes [x 5]"
      ]
     },
     "execution_count": 3,
     "metadata": {},
     "output_type": "execute_result"
    }
   ],
   "source": [
    "text1='\thaeboÉ¤boÉ¤@u m haeboÉ¤boÉ¤@u o and p !'\n",
    "text2='\t&=nods:yes .'\n",
    "text3='\\tnuhn [: nothing] .'\n",
    "text4='\\tridin(g) under de [: the] batrack@u [= track] .'\n",
    "text5='\\t&-uh baba@u'\n",
    "text6 = 'I be going to go out to the kitchen dis alright \u0015\u0015'\n",
    "text7 = '\tin the , Monsters Inc tower , like show you , like .'\n",
    "text8 = 'uni'\n",
    "text9 = 'Hello [Repeat 3 times] yes [x 5]'\n",
    "corpus =[text1, text2, text3, text4, text5,text6,text7, text8, text9]\n",
    "test = pd.DataFrame(corpus, columns=['speech'])\n",
    "test"
   ]
  },
  {
   "cell_type": "code",
   "execution_count": 4,
   "id": "3c63ff08",
   "metadata": {
    "colab": {
     "base_uri": "https://localhost:8080/"
    },
    "id": "2f7e7e76-e787-41d3-a190-aad5114ae39e",
    "outputId": "de7add3e-7a55-4227-b019-706cf695233a"
   },
   "outputs": [
    {
     "name": "stdout",
     "output_type": "stream",
     "text": [
      "Step 1: Annotate Speech\n"
     ]
    },
    {
     "name": "stderr",
     "output_type": "stream",
     "text": [
      "100%|██████████| 9/9 [00:00<00:00, 2912.49it/s]\n"
     ]
    },
    {
     "name": "stdout",
     "output_type": "stream",
     "text": [
      "Step 2: Common Preprocessing\n"
     ]
    },
    {
     "name": "stderr",
     "output_type": "stream",
     "text": [
      "100%|██████████| 9/9 [00:00<00:00, 8998.51it/s]\n"
     ]
    },
    {
     "name": "stdout",
     "output_type": "stream",
     "text": [
      "Step 3: Lemmatization\n"
     ]
    },
    {
     "name": "stderr",
     "output_type": "stream",
     "text": [
      "100%|██████████| 9/9 [00:00<00:00, 215.47it/s]\n"
     ]
    },
    {
     "name": "stdout",
     "output_type": "stream",
     "text": [
      "Step 4: Extract Meaningful Speech\n"
     ]
    },
    {
     "name": "stderr",
     "output_type": "stream",
     "text": [
      "100%|██████████| 9/9 [00:00<00:00, 333.97it/s]\n"
     ]
    },
    {
     "name": "stdout",
     "output_type": "stream",
     "text": [
      "Step 5: Structure Speech\n"
     ]
    },
    {
     "name": "stderr",
     "output_type": "stream",
     "text": [
      "100%|██████████| 9/9 [00:00<00:00, 296.13it/s]\n"
     ]
    },
    {
     "name": "stdout",
     "output_type": "stream",
     "text": [
      "Step 6: Stem Lemmatized Speech\n"
     ]
    },
    {
     "name": "stderr",
     "output_type": "stream",
     "text": [
      "100%|██████████| 9/9 [00:00<00:00, 4510.54it/s]\n"
     ]
    },
    {
     "name": "stdout",
     "output_type": "stream",
     "text": [
      "Step 7: Stem Structured Speech\n"
     ]
    },
    {
     "name": "stderr",
     "output_type": "stream",
     "text": [
      "100%|██████████| 9/9 [00:00<00:00, 9000.65it/s]"
     ]
    },
    {
     "name": "stdout",
     "output_type": "stream",
     "text": [
      "Ouf!! Save ...\n",
      "Preprocessing is done, you find your clean data at data/test_preprocess.csv\n"
     ]
    },
    {
     "name": "stderr",
     "output_type": "stream",
     "text": [
      "\n"
     ]
    }
   ],
   "source": [
    "preprocessed_dataset_path = 'data/test_preprocess.csv'\n",
    "column ='speech'\n",
    "NLP_F.preprocess(test, column, preprocessed_dataset_path) "
   ]
  },
  {
   "cell_type": "code",
   "execution_count": 5,
   "id": "27c8e419-ceef-44e0-aa5b-6b913070c49f",
   "metadata": {},
   "outputs": [
    {
     "data": {
      "text/html": [
       "<div>\n",
       "<style scoped>\n",
       "    .dataframe tbody tr th:only-of-type {\n",
       "        vertical-align: middle;\n",
       "    }\n",
       "\n",
       "    .dataframe tbody tr th {\n",
       "        vertical-align: top;\n",
       "    }\n",
       "\n",
       "    .dataframe thead th {\n",
       "        text-align: right;\n",
       "    }\n",
       "</style>\n",
       "<table border=\"1\" class=\"dataframe\">\n",
       "  <thead>\n",
       "    <tr style=\"text-align: right;\">\n",
       "      <th></th>\n",
       "      <th>speech</th>\n",
       "      <th>clean_annotated_speech</th>\n",
       "      <th>lemmatized_speech</th>\n",
       "      <th>meaningful_speech</th>\n",
       "      <th>structured_speech</th>\n",
       "      <th>stemmed_lemmatized_speech</th>\n",
       "      <th>stemmed_structured_speech</th>\n",
       "    </tr>\n",
       "  </thead>\n",
       "  <tbody>\n",
       "    <tr>\n",
       "      <th>0</th>\n",
       "      <td>\\thaeboÉ¤boÉ¤@u m haeboÉ¤boÉ¤@u o and p !</td>\n",
       "      <td>haebobo bab m haebobo bab o and p</td>\n",
       "      <td>haebobo bab m haebobo bab o and p</td>\n",
       "      <td>bab m bab o and p</td>\n",
       "      <td>bab bab o p</td>\n",
       "      <td>haebobo bab m haebobo bab o and p</td>\n",
       "      <td>bab bab o p</td>\n",
       "    </tr>\n",
       "    <tr>\n",
       "      <th>1</th>\n",
       "      <td>\\t&amp;=nods:yes .</td>\n",
       "      <td>NaN</td>\n",
       "      <td>NaN</td>\n",
       "      <td>NaN</td>\n",
       "      <td>NaN</td>\n",
       "      <td>NaN</td>\n",
       "      <td>NaN</td>\n",
       "    </tr>\n",
       "    <tr>\n",
       "      <th>2</th>\n",
       "      <td>\\tnuhn [: nothing] .</td>\n",
       "      <td>nuhn mis</td>\n",
       "      <td>nuhn mis</td>\n",
       "      <td>mis</td>\n",
       "      <td>mis</td>\n",
       "      <td>nuhn mis</td>\n",
       "      <td>mis</td>\n",
       "    </tr>\n",
       "    <tr>\n",
       "      <th>3</th>\n",
       "      <td>\\tridin(g) under de [: the] batrack@u [= track] .</td>\n",
       "      <td>ridin disf under de mis batrack bab</td>\n",
       "      <td>ridin disf under de mis batrack bab</td>\n",
       "      <td>disf under de mis bab</td>\n",
       "      <td>disf mis bab</td>\n",
       "      <td>ridin disf und de mis batrack bab</td>\n",
       "      <td>disf mis bab</td>\n",
       "    </tr>\n",
       "    <tr>\n",
       "      <th>4</th>\n",
       "      <td>\\t&amp;-uh baba@u</td>\n",
       "      <td>disf baba bab</td>\n",
       "      <td>disf baba bab</td>\n",
       "      <td>disf baba bab</td>\n",
       "      <td>disf bab</td>\n",
       "      <td>disf bab bab</td>\n",
       "      <td>disf bab</td>\n",
       "    </tr>\n",
       "    <tr>\n",
       "      <th>5</th>\n",
       "      <td>I be going to go out to the kitchen dis alrigh...</td>\n",
       "      <td>i be going to go out to the kitchen dis alright</td>\n",
       "      <td>I be go to go out to the kitchen dis alright</td>\n",
       "      <td>I be go to go out to the kitchen dis alright</td>\n",
       "      <td>I be go go kitchen alright</td>\n",
       "      <td>i be go to go out to the kitch dis alright</td>\n",
       "      <td>i be go go kitch alright</td>\n",
       "    </tr>\n",
       "    <tr>\n",
       "      <th>6</th>\n",
       "      <td>\\tin the , Monsters Inc tower , like show you ...</td>\n",
       "      <td>in the monsters inc tower like show you like</td>\n",
       "      <td>in the monsters inc tower like show you like</td>\n",
       "      <td>in the monsters inc tower like show you like</td>\n",
       "      <td>show you like</td>\n",
       "      <td>in the monst int tow lik show you lik</td>\n",
       "      <td>show you lik</td>\n",
       "    </tr>\n",
       "    <tr>\n",
       "      <th>7</th>\n",
       "      <td>uni</td>\n",
       "      <td>uni</td>\n",
       "      <td>uni</td>\n",
       "      <td>uni</td>\n",
       "      <td>uni</td>\n",
       "      <td>uni</td>\n",
       "      <td>uni</td>\n",
       "    </tr>\n",
       "    <tr>\n",
       "      <th>8</th>\n",
       "      <td>Hello [Repeat 3 times] yes [x 5]</td>\n",
       "      <td>hello yes rep rep rep rep rep</td>\n",
       "      <td>hello yes rep rep rep rep rep</td>\n",
       "      <td>hello yes rep rep rep rep rep</td>\n",
       "      <td>hello yes rep rep rep rep rep</td>\n",
       "      <td>hello ye rep rep rep rep rep</td>\n",
       "      <td>hello ye rep rep rep rep rep</td>\n",
       "    </tr>\n",
       "  </tbody>\n",
       "</table>\n",
       "</div>"
      ],
      "text/plain": [
       "                                              speech  \\\n",
       "0          \\thaeboÉ¤boÉ¤@u m haeboÉ¤boÉ¤@u o and p !   \n",
       "1                                     \\t&=nods:yes .   \n",
       "2                               \\tnuhn [: nothing] .   \n",
       "3  \\tridin(g) under de [: the] batrack@u [= track] .   \n",
       "4                                      \\t&-uh baba@u   \n",
       "5  I be going to go out to the kitchen dis alrigh...   \n",
       "6  \\tin the , Monsters Inc tower , like show you ...   \n",
       "7                                                uni   \n",
       "8                   Hello [Repeat 3 times] yes [x 5]   \n",
       "\n",
       "                            clean_annotated_speech  \\\n",
       "0                haebobo bab m haebobo bab o and p   \n",
       "1                                              NaN   \n",
       "2                                         nuhn mis   \n",
       "3              ridin disf under de mis batrack bab   \n",
       "4                                    disf baba bab   \n",
       "5  i be going to go out to the kitchen dis alright   \n",
       "6     in the monsters inc tower like show you like   \n",
       "7                                              uni   \n",
       "8                    hello yes rep rep rep rep rep   \n",
       "\n",
       "                              lemmatized_speech  \\\n",
       "0             haebobo bab m haebobo bab o and p   \n",
       "1                                           NaN   \n",
       "2                                      nuhn mis   \n",
       "3           ridin disf under de mis batrack bab   \n",
       "4                                 disf baba bab   \n",
       "5  I be go to go out to the kitchen dis alright   \n",
       "6  in the monsters inc tower like show you like   \n",
       "7                                           uni   \n",
       "8                 hello yes rep rep rep rep rep   \n",
       "\n",
       "                              meaningful_speech  \\\n",
       "0                             bab m bab o and p   \n",
       "1                                           NaN   \n",
       "2                                           mis   \n",
       "3                         disf under de mis bab   \n",
       "4                                 disf baba bab   \n",
       "5  I be go to go out to the kitchen dis alright   \n",
       "6  in the monsters inc tower like show you like   \n",
       "7                                           uni   \n",
       "8                 hello yes rep rep rep rep rep   \n",
       "\n",
       "               structured_speech                   stemmed_lemmatized_speech  \\\n",
       "0                    bab bab o p           haebobo bab m haebobo bab o and p   \n",
       "1                            NaN                                         NaN   \n",
       "2                            mis                                    nuhn mis   \n",
       "3                   disf mis bab           ridin disf und de mis batrack bab   \n",
       "4                       disf bab                                disf bab bab   \n",
       "5     I be go go kitchen alright  i be go to go out to the kitch dis alright   \n",
       "6                  show you like       in the monst int tow lik show you lik   \n",
       "7                            uni                                         uni   \n",
       "8  hello yes rep rep rep rep rep                hello ye rep rep rep rep rep   \n",
       "\n",
       "      stemmed_structured_speech  \n",
       "0                   bab bab o p  \n",
       "1                           NaN  \n",
       "2                           mis  \n",
       "3                  disf mis bab  \n",
       "4                      disf bab  \n",
       "5      i be go go kitch alright  \n",
       "6                  show you lik  \n",
       "7                           uni  \n",
       "8  hello ye rep rep rep rep rep  "
      ]
     },
     "execution_count": 5,
     "metadata": {},
     "output_type": "execute_result"
    }
   ],
   "source": [
    "df = pd.read_csv(preprocessed_dataset_path)\n",
    "df"
   ]
  }
 ],
 "metadata": {
  "accelerator": "GPU",
  "colab": {
   "collapsed_sections": [],
   "name": "P10.ipynb",
   "provenance": []
  },
  "kernelspec": {
   "display_name": "Python 3 (ipykernel)",
   "language": "python",
   "name": "python3"
  },
  "language_info": {
   "codemirror_mode": {
    "name": "ipython",
    "version": 3
   },
   "file_extension": ".py",
   "mimetype": "text/x-python",
   "name": "python",
   "nbconvert_exporter": "python",
   "pygments_lexer": "ipython3",
   "version": "3.9.7"
  }
 },
 "nbformat": 4,
 "nbformat_minor": 5
}
