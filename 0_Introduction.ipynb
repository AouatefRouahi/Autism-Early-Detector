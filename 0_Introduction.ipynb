{
 "cells": [
  {
   "cell_type": "markdown",
   "id": "68d4b09d-9ea6-4855-a56a-a91728299d7c",
   "metadata": {
    "tags": []
   },
   "source": [
    "# Autism Spectrum Disorder Early Detector\n",
    "-------\n",
    "## Introduction\n",
    "\n",
    "1. **Definition**\n",
    "> **Autism Spectrum Disorder** (ASD) is a developmental disorder of variable severity that is characterized by difficulties in social interaction and communication and by restricted or repetitive patterns of thought and behaviour [Centers for Disease Control and Prevention](https://www.cdc.gov/).\n",
    "\n",
    "1. **Statistics**  [Centers for Disease Control and Prevention](https://www.cdc.gov/): \n",
    "> * 1 / 44 children has been identified with ASD\n",
    "> * Prevalence among boys = 4 x Prevalence among girls\n",
    "\n",
    "1. **Early Detection** [ABSKids](https://abkids.org/):\n",
    "> * Better understanding of the disorder\n",
    "> * ASD effects can be reduced at an early age\n",
    "> * Better therapeutic results\n",
    "\n",
    "1. **Symptoms** [autismspeaks](https://www.autismspeaks.org/):\n",
    "> * **Visual** \n",
    ">    * Few or no big facial expressions\n",
    ">    * Limited or no eye contact\n",
    ">    * Little or no back-and-forth gestures such as pointing, showing, reaching or waving\n",
    "> * **Linguistic** \n",
    ">    * Very few or no words\n",
    ">    * Very few or no meaningful\n",
    ">    * Delayed language development\n",
    ">    * Persistent repetition of words or phrases (echolalia)\n",
    "> * **Behavioral** \n",
    ">    * Persistent preference for solitude\n",
    ">    * Resistance to minor changes in routine or surroundings\n",
    ">    * Restricted interests\n",
    ">    * Repetitive behaviors (flapping, rocking, spinning, etc.) (stereotypy)\n",
    ">    * Unusual and intense reactions to sounds, smells, tastes, textures, lights and/or colors\n",
    "-----------"
   ]
  },
  {
   "cell_type": "markdown",
   "id": "82efdd88-e5f8-45bc-af43-1ea61623674d",
   "metadata": {},
   "source": [
    "## Proposed Solution\n",
    "\n",
    "In this project, we propose an artificial early detector of Autism Spectrum Disorder in children between 3 and 6 years old that addresses both visual and linguistic symptoms. The detector is a combined model based on 2 trained components: \n",
    "* **Image-based Component**: is based on the facial **photos** of children; \n",
    "* **Text-based Component**: is based on children’s **speeches**\n",
    "\n",
    "-----\n",
    "\n",
    "## Data\n",
    "* Photos are **obtained** from [Kaggle](https://www.kaggle.com/).\n",
    "* Speeches are **scraped** from the [TalkBank](https://talkbank.org/).\n",
    "\n",
    "## Team\n",
    "* Aouatef Rouahi\n",
    "* Bastien Richasse\n",
    "* Gary Benichou"
   ]
  }
 ],
 "metadata": {
  "kernelspec": {
   "display_name": "Python 3 (ipykernel)",
   "language": "python",
   "name": "python3"
  },
  "language_info": {
   "codemirror_mode": {
    "name": "ipython",
    "version": 3
   },
   "file_extension": ".py",
   "mimetype": "text/x-python",
   "name": "python",
   "nbconvert_exporter": "python",
   "pygments_lexer": "ipython3",
   "version": "3.9.7"
  }
 },
 "nbformat": 4,
 "nbformat_minor": 5
}
